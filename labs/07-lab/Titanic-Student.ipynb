{
 "cells": [
  {
   "cell_type": "code",
   "execution_count": 202,
   "id": "20c99f41",
   "metadata": {
    "_cell_guid": "b1076dfc-b9ad-4769-8c92-a6c4dae69d19",
    "_uuid": "8f2839f25d086af736a60e9eeb907d3b93b6e0e5",
    "execution": {
     "iopub.execute_input": "2022-10-23T12:28:08.712218Z",
     "iopub.status.busy": "2022-10-23T12:28:08.711593Z",
     "iopub.status.idle": "2022-10-23T12:28:09.990312Z",
     "shell.execute_reply": "2022-10-23T12:28:09.988868Z"
    },
    "papermill": {
     "duration": 1.298605,
     "end_time": "2022-10-23T12:28:09.993329",
     "exception": false,
     "start_time": "2022-10-23T12:28:08.694724",
     "status": "completed"
    },
    "tags": []
   },
   "outputs": [],
   "source": [
    "import pandas as pd\n",
    "import numpy as np\n",
    "import seaborn as sns\n",
    "import matplotlib.pyplot as plt\n",
    "import warnings \n",
    "\n",
    "warnings.filterwarnings(\"ignore\")"
   ]
  },
  {
   "cell_type": "code",
   "execution_count": 203,
   "id": "89cd7fd9",
   "metadata": {},
   "outputs": [
    {
     "data": {
      "text/html": [
       "<div>\n",
       "<style scoped>\n",
       "    .dataframe tbody tr th:only-of-type {\n",
       "        vertical-align: middle;\n",
       "    }\n",
       "\n",
       "    .dataframe tbody tr th {\n",
       "        vertical-align: top;\n",
       "    }\n",
       "\n",
       "    .dataframe thead th {\n",
       "        text-align: right;\n",
       "    }\n",
       "</style>\n",
       "<table border=\"1\" class=\"dataframe\">\n",
       "  <thead>\n",
       "    <tr style=\"text-align: right;\">\n",
       "      <th></th>\n",
       "      <th>Id</th>\n",
       "      <th>PassengerId</th>\n",
       "      <th>HomePlanet</th>\n",
       "      <th>CryoSleep</th>\n",
       "      <th>Cabin</th>\n",
       "      <th>Destination</th>\n",
       "      <th>Age</th>\n",
       "      <th>VIP</th>\n",
       "      <th>RoomService</th>\n",
       "      <th>FoodCourt</th>\n",
       "      <th>ShoppingMall</th>\n",
       "      <th>Spa</th>\n",
       "      <th>VRDeck</th>\n",
       "      <th>Name</th>\n",
       "      <th>Transported</th>\n",
       "    </tr>\n",
       "  </thead>\n",
       "  <tbody>\n",
       "    <tr>\n",
       "      <th>0</th>\n",
       "      <td>0</td>\n",
       "      <td>0001_01</td>\n",
       "      <td>Europa</td>\n",
       "      <td>False</td>\n",
       "      <td>B/0/P</td>\n",
       "      <td>TRAPPIST-1e</td>\n",
       "      <td>39.0</td>\n",
       "      <td>False</td>\n",
       "      <td>0.0</td>\n",
       "      <td>0.0</td>\n",
       "      <td>0.0</td>\n",
       "      <td>0.0</td>\n",
       "      <td>0.0</td>\n",
       "      <td>Maham Ofracculy</td>\n",
       "      <td>NaN</td>\n",
       "    </tr>\n",
       "    <tr>\n",
       "      <th>1</th>\n",
       "      <td>1</td>\n",
       "      <td>0002_01</td>\n",
       "      <td>Earth</td>\n",
       "      <td>False</td>\n",
       "      <td>F/0/S</td>\n",
       "      <td>TRAPPIST-1e</td>\n",
       "      <td>24.0</td>\n",
       "      <td>False</td>\n",
       "      <td>109.0</td>\n",
       "      <td>9.0</td>\n",
       "      <td>25.0</td>\n",
       "      <td>549.0</td>\n",
       "      <td>44.0</td>\n",
       "      <td>Juanna Vines</td>\n",
       "      <td>1.0</td>\n",
       "    </tr>\n",
       "    <tr>\n",
       "      <th>2</th>\n",
       "      <td>2</td>\n",
       "      <td>0003_01</td>\n",
       "      <td>Europa</td>\n",
       "      <td>False</td>\n",
       "      <td>A/0/S</td>\n",
       "      <td>TRAPPIST-1e</td>\n",
       "      <td>58.0</td>\n",
       "      <td>True</td>\n",
       "      <td>43.0</td>\n",
       "      <td>3576.0</td>\n",
       "      <td>0.0</td>\n",
       "      <td>6715.0</td>\n",
       "      <td>49.0</td>\n",
       "      <td>Altark Susent</td>\n",
       "      <td>0.0</td>\n",
       "    </tr>\n",
       "    <tr>\n",
       "      <th>3</th>\n",
       "      <td>3</td>\n",
       "      <td>0003_02</td>\n",
       "      <td>Europa</td>\n",
       "      <td>False</td>\n",
       "      <td>A/0/S</td>\n",
       "      <td>TRAPPIST-1e</td>\n",
       "      <td>33.0</td>\n",
       "      <td>False</td>\n",
       "      <td>0.0</td>\n",
       "      <td>1283.0</td>\n",
       "      <td>371.0</td>\n",
       "      <td>3329.0</td>\n",
       "      <td>193.0</td>\n",
       "      <td>Solam Susent</td>\n",
       "      <td>0.0</td>\n",
       "    </tr>\n",
       "    <tr>\n",
       "      <th>4</th>\n",
       "      <td>4</td>\n",
       "      <td>0004_01</td>\n",
       "      <td>Earth</td>\n",
       "      <td>False</td>\n",
       "      <td>F/1/S</td>\n",
       "      <td>TRAPPIST-1e</td>\n",
       "      <td>16.0</td>\n",
       "      <td>False</td>\n",
       "      <td>303.0</td>\n",
       "      <td>70.0</td>\n",
       "      <td>151.0</td>\n",
       "      <td>565.0</td>\n",
       "      <td>2.0</td>\n",
       "      <td>Willy Santantines</td>\n",
       "      <td>1.0</td>\n",
       "    </tr>\n",
       "    <tr>\n",
       "      <th>...</th>\n",
       "      <td>...</td>\n",
       "      <td>...</td>\n",
       "      <td>...</td>\n",
       "      <td>...</td>\n",
       "      <td>...</td>\n",
       "      <td>...</td>\n",
       "      <td>...</td>\n",
       "      <td>...</td>\n",
       "      <td>...</td>\n",
       "      <td>...</td>\n",
       "      <td>...</td>\n",
       "      <td>...</td>\n",
       "      <td>...</td>\n",
       "      <td>...</td>\n",
       "      <td>...</td>\n",
       "    </tr>\n",
       "    <tr>\n",
       "      <th>8688</th>\n",
       "      <td>8688</td>\n",
       "      <td>9276_01</td>\n",
       "      <td>Europa</td>\n",
       "      <td>False</td>\n",
       "      <td>A/98/P</td>\n",
       "      <td>55 Cancri e</td>\n",
       "      <td>41.0</td>\n",
       "      <td>True</td>\n",
       "      <td>0.0</td>\n",
       "      <td>6819.0</td>\n",
       "      <td>0.0</td>\n",
       "      <td>1643.0</td>\n",
       "      <td>74.0</td>\n",
       "      <td>Gravior Noxnuther</td>\n",
       "      <td>NaN</td>\n",
       "    </tr>\n",
       "    <tr>\n",
       "      <th>8689</th>\n",
       "      <td>8689</td>\n",
       "      <td>9278_01</td>\n",
       "      <td>Earth</td>\n",
       "      <td>True</td>\n",
       "      <td>G/1499/S</td>\n",
       "      <td>PSO J318.5-22</td>\n",
       "      <td>18.0</td>\n",
       "      <td>False</td>\n",
       "      <td>0.0</td>\n",
       "      <td>0.0</td>\n",
       "      <td>0.0</td>\n",
       "      <td>0.0</td>\n",
       "      <td>0.0</td>\n",
       "      <td>Kurta Mondalley</td>\n",
       "      <td>0.0</td>\n",
       "    </tr>\n",
       "    <tr>\n",
       "      <th>8690</th>\n",
       "      <td>8690</td>\n",
       "      <td>9279_01</td>\n",
       "      <td>Earth</td>\n",
       "      <td>False</td>\n",
       "      <td>G/1500/S</td>\n",
       "      <td>TRAPPIST-1e</td>\n",
       "      <td>26.0</td>\n",
       "      <td>False</td>\n",
       "      <td>0.0</td>\n",
       "      <td>0.0</td>\n",
       "      <td>1872.0</td>\n",
       "      <td>1.0</td>\n",
       "      <td>0.0</td>\n",
       "      <td>Fayey Connon</td>\n",
       "      <td>1.0</td>\n",
       "    </tr>\n",
       "    <tr>\n",
       "      <th>8691</th>\n",
       "      <td>8691</td>\n",
       "      <td>9280_01</td>\n",
       "      <td>Europa</td>\n",
       "      <td>False</td>\n",
       "      <td>E/608/S</td>\n",
       "      <td>55 Cancri e</td>\n",
       "      <td>32.0</td>\n",
       "      <td>False</td>\n",
       "      <td>0.0</td>\n",
       "      <td>1049.0</td>\n",
       "      <td>0.0</td>\n",
       "      <td>353.0</td>\n",
       "      <td>3235.0</td>\n",
       "      <td>Celeon Hontichre</td>\n",
       "      <td>NaN</td>\n",
       "    </tr>\n",
       "    <tr>\n",
       "      <th>8692</th>\n",
       "      <td>8692</td>\n",
       "      <td>9280_02</td>\n",
       "      <td>Europa</td>\n",
       "      <td>False</td>\n",
       "      <td>E/608/S</td>\n",
       "      <td>TRAPPIST-1e</td>\n",
       "      <td>44.0</td>\n",
       "      <td>False</td>\n",
       "      <td>126.0</td>\n",
       "      <td>4688.0</td>\n",
       "      <td>0.0</td>\n",
       "      <td>0.0</td>\n",
       "      <td>12.0</td>\n",
       "      <td>Propsh Hontichre</td>\n",
       "      <td>1.0</td>\n",
       "    </tr>\n",
       "  </tbody>\n",
       "</table>\n",
       "<p>8693 rows × 15 columns</p>\n",
       "</div>"
      ],
      "text/plain": [
       "        Id PassengerId HomePlanet CryoSleep     Cabin    Destination   Age  \\\n",
       "0        0     0001_01     Europa     False     B/0/P    TRAPPIST-1e  39.0   \n",
       "1        1     0002_01      Earth     False     F/0/S    TRAPPIST-1e  24.0   \n",
       "2        2     0003_01     Europa     False     A/0/S    TRAPPIST-1e  58.0   \n",
       "3        3     0003_02     Europa     False     A/0/S    TRAPPIST-1e  33.0   \n",
       "4        4     0004_01      Earth     False     F/1/S    TRAPPIST-1e  16.0   \n",
       "...    ...         ...        ...       ...       ...            ...   ...   \n",
       "8688  8688     9276_01     Europa     False    A/98/P    55 Cancri e  41.0   \n",
       "8689  8689     9278_01      Earth      True  G/1499/S  PSO J318.5-22  18.0   \n",
       "8690  8690     9279_01      Earth     False  G/1500/S    TRAPPIST-1e  26.0   \n",
       "8691  8691     9280_01     Europa     False   E/608/S    55 Cancri e  32.0   \n",
       "8692  8692     9280_02     Europa     False   E/608/S    TRAPPIST-1e  44.0   \n",
       "\n",
       "        VIP  RoomService  FoodCourt  ShoppingMall     Spa  VRDeck  \\\n",
       "0     False          0.0        0.0           0.0     0.0     0.0   \n",
       "1     False        109.0        9.0          25.0   549.0    44.0   \n",
       "2      True         43.0     3576.0           0.0  6715.0    49.0   \n",
       "3     False          0.0     1283.0         371.0  3329.0   193.0   \n",
       "4     False        303.0       70.0         151.0   565.0     2.0   \n",
       "...     ...          ...        ...           ...     ...     ...   \n",
       "8688   True          0.0     6819.0           0.0  1643.0    74.0   \n",
       "8689  False          0.0        0.0           0.0     0.0     0.0   \n",
       "8690  False          0.0        0.0        1872.0     1.0     0.0   \n",
       "8691  False          0.0     1049.0           0.0   353.0  3235.0   \n",
       "8692  False        126.0     4688.0           0.0     0.0    12.0   \n",
       "\n",
       "                   Name  Transported  \n",
       "0       Maham Ofracculy          NaN  \n",
       "1          Juanna Vines          1.0  \n",
       "2         Altark Susent          0.0  \n",
       "3          Solam Susent          0.0  \n",
       "4     Willy Santantines          1.0  \n",
       "...                 ...          ...  \n",
       "8688  Gravior Noxnuther          NaN  \n",
       "8689    Kurta Mondalley          0.0  \n",
       "8690       Fayey Connon          1.0  \n",
       "8691   Celeon Hontichre          NaN  \n",
       "8692   Propsh Hontichre          1.0  \n",
       "\n",
       "[8693 rows x 15 columns]"
      ]
     },
     "execution_count": 203,
     "metadata": {},
     "output_type": "execute_result"
    }
   ],
   "source": [
    "train = pd.read_csv('train.csv')\n",
    "test = pd.read_csv('test.csv')\n",
    "test = pd.merge(test, train, how='inner', on='Id')\n",
    "test\n",
    "train"
   ]
  },
  {
   "cell_type": "code",
   "execution_count": 204,
   "id": "1b69f095",
   "metadata": {},
   "outputs": [],
   "source": [
    "columns = ['Transported_x', 'Transported_y']\n",
    "test = test.drop(columns, axis=1)"
   ]
  },
  {
   "cell_type": "code",
   "execution_count": 205,
   "id": "82391638",
   "metadata": {},
   "outputs": [],
   "source": [
    "train = train[train[\"Transported\"].notnull()]"
   ]
  },
  {
   "cell_type": "code",
   "execution_count": 206,
   "id": "b3e90e60",
   "metadata": {},
   "outputs": [
    {
     "data": {
      "text/html": [
       "<div>\n",
       "<style scoped>\n",
       "    .dataframe tbody tr th:only-of-type {\n",
       "        vertical-align: middle;\n",
       "    }\n",
       "\n",
       "    .dataframe tbody tr th {\n",
       "        vertical-align: top;\n",
       "    }\n",
       "\n",
       "    .dataframe thead th {\n",
       "        text-align: right;\n",
       "    }\n",
       "</style>\n",
       "<table border=\"1\" class=\"dataframe\">\n",
       "  <thead>\n",
       "    <tr style=\"text-align: right;\">\n",
       "      <th></th>\n",
       "      <th>Id</th>\n",
       "      <th>PassengerId</th>\n",
       "      <th>HomePlanet</th>\n",
       "      <th>CryoSleep</th>\n",
       "      <th>Cabin</th>\n",
       "      <th>Destination</th>\n",
       "      <th>Age</th>\n",
       "      <th>VIP</th>\n",
       "      <th>RoomService</th>\n",
       "      <th>FoodCourt</th>\n",
       "      <th>ShoppingMall</th>\n",
       "      <th>Spa</th>\n",
       "      <th>VRDeck</th>\n",
       "      <th>Name</th>\n",
       "      <th>Transported</th>\n",
       "    </tr>\n",
       "  </thead>\n",
       "  <tbody>\n",
       "    <tr>\n",
       "      <th>1</th>\n",
       "      <td>1</td>\n",
       "      <td>0002_01</td>\n",
       "      <td>Earth</td>\n",
       "      <td>False</td>\n",
       "      <td>F/0/S</td>\n",
       "      <td>TRAPPIST-1e</td>\n",
       "      <td>24.0</td>\n",
       "      <td>False</td>\n",
       "      <td>109.0</td>\n",
       "      <td>9.0</td>\n",
       "      <td>25.0</td>\n",
       "      <td>549.0</td>\n",
       "      <td>44.0</td>\n",
       "      <td>Juanna Vines</td>\n",
       "      <td>1.0</td>\n",
       "    </tr>\n",
       "    <tr>\n",
       "      <th>2</th>\n",
       "      <td>2</td>\n",
       "      <td>0003_01</td>\n",
       "      <td>Europa</td>\n",
       "      <td>False</td>\n",
       "      <td>A/0/S</td>\n",
       "      <td>TRAPPIST-1e</td>\n",
       "      <td>58.0</td>\n",
       "      <td>True</td>\n",
       "      <td>43.0</td>\n",
       "      <td>3576.0</td>\n",
       "      <td>0.0</td>\n",
       "      <td>6715.0</td>\n",
       "      <td>49.0</td>\n",
       "      <td>Altark Susent</td>\n",
       "      <td>0.0</td>\n",
       "    </tr>\n",
       "    <tr>\n",
       "      <th>3</th>\n",
       "      <td>3</td>\n",
       "      <td>0003_02</td>\n",
       "      <td>Europa</td>\n",
       "      <td>False</td>\n",
       "      <td>A/0/S</td>\n",
       "      <td>TRAPPIST-1e</td>\n",
       "      <td>33.0</td>\n",
       "      <td>False</td>\n",
       "      <td>0.0</td>\n",
       "      <td>1283.0</td>\n",
       "      <td>371.0</td>\n",
       "      <td>3329.0</td>\n",
       "      <td>193.0</td>\n",
       "      <td>Solam Susent</td>\n",
       "      <td>0.0</td>\n",
       "    </tr>\n",
       "    <tr>\n",
       "      <th>4</th>\n",
       "      <td>4</td>\n",
       "      <td>0004_01</td>\n",
       "      <td>Earth</td>\n",
       "      <td>False</td>\n",
       "      <td>F/1/S</td>\n",
       "      <td>TRAPPIST-1e</td>\n",
       "      <td>16.0</td>\n",
       "      <td>False</td>\n",
       "      <td>303.0</td>\n",
       "      <td>70.0</td>\n",
       "      <td>151.0</td>\n",
       "      <td>565.0</td>\n",
       "      <td>2.0</td>\n",
       "      <td>Willy Santantines</td>\n",
       "      <td>1.0</td>\n",
       "    </tr>\n",
       "    <tr>\n",
       "      <th>5</th>\n",
       "      <td>5</td>\n",
       "      <td>0005_01</td>\n",
       "      <td>Earth</td>\n",
       "      <td>False</td>\n",
       "      <td>F/0/P</td>\n",
       "      <td>PSO J318.5-22</td>\n",
       "      <td>44.0</td>\n",
       "      <td>False</td>\n",
       "      <td>0.0</td>\n",
       "      <td>483.0</td>\n",
       "      <td>0.0</td>\n",
       "      <td>291.0</td>\n",
       "      <td>0.0</td>\n",
       "      <td>Sandie Hinetthews</td>\n",
       "      <td>1.0</td>\n",
       "    </tr>\n",
       "  </tbody>\n",
       "</table>\n",
       "</div>"
      ],
      "text/plain": [
       "   Id PassengerId HomePlanet CryoSleep  Cabin    Destination   Age    VIP  \\\n",
       "1   1     0002_01      Earth     False  F/0/S    TRAPPIST-1e  24.0  False   \n",
       "2   2     0003_01     Europa     False  A/0/S    TRAPPIST-1e  58.0   True   \n",
       "3   3     0003_02     Europa     False  A/0/S    TRAPPIST-1e  33.0  False   \n",
       "4   4     0004_01      Earth     False  F/1/S    TRAPPIST-1e  16.0  False   \n",
       "5   5     0005_01      Earth     False  F/0/P  PSO J318.5-22  44.0  False   \n",
       "\n",
       "   RoomService  FoodCourt  ShoppingMall     Spa  VRDeck               Name  \\\n",
       "1        109.0        9.0          25.0   549.0    44.0       Juanna Vines   \n",
       "2         43.0     3576.0           0.0  6715.0    49.0      Altark Susent   \n",
       "3          0.0     1283.0         371.0  3329.0   193.0       Solam Susent   \n",
       "4        303.0       70.0         151.0   565.0     2.0  Willy Santantines   \n",
       "5          0.0      483.0           0.0   291.0     0.0  Sandie Hinetthews   \n",
       "\n",
       "   Transported  \n",
       "1          1.0  \n",
       "2          0.0  \n",
       "3          0.0  \n",
       "4          1.0  \n",
       "5          1.0  "
      ]
     },
     "execution_count": 206,
     "metadata": {},
     "output_type": "execute_result"
    }
   ],
   "source": [
    "train.head()"
   ]
  },
  {
   "cell_type": "code",
   "execution_count": 207,
   "id": "7c886a21",
   "metadata": {},
   "outputs": [
    {
     "data": {
      "text/html": [
       "<div>\n",
       "<style scoped>\n",
       "    .dataframe tbody tr th:only-of-type {\n",
       "        vertical-align: middle;\n",
       "    }\n",
       "\n",
       "    .dataframe tbody tr th {\n",
       "        vertical-align: top;\n",
       "    }\n",
       "\n",
       "    .dataframe thead th {\n",
       "        text-align: right;\n",
       "    }\n",
       "</style>\n",
       "<table border=\"1\" class=\"dataframe\">\n",
       "  <thead>\n",
       "    <tr style=\"text-align: right;\">\n",
       "      <th></th>\n",
       "      <th>Id</th>\n",
       "      <th>PassengerId</th>\n",
       "      <th>HomePlanet</th>\n",
       "      <th>CryoSleep</th>\n",
       "      <th>Cabin</th>\n",
       "      <th>Destination</th>\n",
       "      <th>Age</th>\n",
       "      <th>VIP</th>\n",
       "      <th>RoomService</th>\n",
       "      <th>FoodCourt</th>\n",
       "      <th>ShoppingMall</th>\n",
       "      <th>Spa</th>\n",
       "      <th>VRDeck</th>\n",
       "      <th>Name</th>\n",
       "    </tr>\n",
       "  </thead>\n",
       "  <tbody>\n",
       "    <tr>\n",
       "      <th>0</th>\n",
       "      <td>304</td>\n",
       "      <td>0337_02</td>\n",
       "      <td>Mars</td>\n",
       "      <td>False</td>\n",
       "      <td>F/63/S</td>\n",
       "      <td>TRAPPIST-1e</td>\n",
       "      <td>19.0</td>\n",
       "      <td>False</td>\n",
       "      <td>417.0</td>\n",
       "      <td>349.0</td>\n",
       "      <td>634.0</td>\n",
       "      <td>3.0</td>\n",
       "      <td>1057.0</td>\n",
       "      <td>Weros Perle</td>\n",
       "    </tr>\n",
       "    <tr>\n",
       "      <th>1</th>\n",
       "      <td>2697</td>\n",
       "      <td>2891_01</td>\n",
       "      <td>Earth</td>\n",
       "      <td>False</td>\n",
       "      <td>G/460/S</td>\n",
       "      <td>TRAPPIST-1e</td>\n",
       "      <td>18.0</td>\n",
       "      <td>False</td>\n",
       "      <td>4.0</td>\n",
       "      <td>904.0</td>\n",
       "      <td>0.0</td>\n",
       "      <td>0.0</td>\n",
       "      <td>1.0</td>\n",
       "      <td>Gleney Ortinericey</td>\n",
       "    </tr>\n",
       "    <tr>\n",
       "      <th>2</th>\n",
       "      <td>8424</td>\n",
       "      <td>8998_01</td>\n",
       "      <td>Earth</td>\n",
       "      <td>True</td>\n",
       "      <td>G/1449/S</td>\n",
       "      <td>TRAPPIST-1e</td>\n",
       "      <td>41.0</td>\n",
       "      <td>False</td>\n",
       "      <td>0.0</td>\n",
       "      <td>0.0</td>\n",
       "      <td>0.0</td>\n",
       "      <td>0.0</td>\n",
       "      <td>0.0</td>\n",
       "      <td>Gerry Englence</td>\n",
       "    </tr>\n",
       "    <tr>\n",
       "      <th>3</th>\n",
       "      <td>1672</td>\n",
       "      <td>1771_01</td>\n",
       "      <td>Earth</td>\n",
       "      <td>False</td>\n",
       "      <td>G/291/P</td>\n",
       "      <td>TRAPPIST-1e</td>\n",
       "      <td>35.0</td>\n",
       "      <td>False</td>\n",
       "      <td>0.0</td>\n",
       "      <td>338.0</td>\n",
       "      <td>436.0</td>\n",
       "      <td>NaN</td>\n",
       "      <td>0.0</td>\n",
       "      <td>Antone Cardner</td>\n",
       "    </tr>\n",
       "    <tr>\n",
       "      <th>4</th>\n",
       "      <td>8458</td>\n",
       "      <td>9034_02</td>\n",
       "      <td>Europa</td>\n",
       "      <td>True</td>\n",
       "      <td>D/288/P</td>\n",
       "      <td>TRAPPIST-1e</td>\n",
       "      <td>43.0</td>\n",
       "      <td>False</td>\n",
       "      <td>0.0</td>\n",
       "      <td>0.0</td>\n",
       "      <td>0.0</td>\n",
       "      <td>0.0</td>\n",
       "      <td>0.0</td>\n",
       "      <td>Errairk Crakete</td>\n",
       "    </tr>\n",
       "  </tbody>\n",
       "</table>\n",
       "</div>"
      ],
      "text/plain": [
       "     Id PassengerId HomePlanet CryoSleep     Cabin  Destination   Age    VIP  \\\n",
       "0   304     0337_02       Mars     False    F/63/S  TRAPPIST-1e  19.0  False   \n",
       "1  2697     2891_01      Earth     False   G/460/S  TRAPPIST-1e  18.0  False   \n",
       "2  8424     8998_01      Earth      True  G/1449/S  TRAPPIST-1e  41.0  False   \n",
       "3  1672     1771_01      Earth     False   G/291/P  TRAPPIST-1e  35.0  False   \n",
       "4  8458     9034_02     Europa      True   D/288/P  TRAPPIST-1e  43.0  False   \n",
       "\n",
       "   RoomService  FoodCourt  ShoppingMall  Spa  VRDeck                Name  \n",
       "0        417.0      349.0         634.0  3.0  1057.0         Weros Perle  \n",
       "1          4.0      904.0           0.0  0.0     1.0  Gleney Ortinericey  \n",
       "2          0.0        0.0           0.0  0.0     0.0      Gerry Englence  \n",
       "3          0.0      338.0         436.0  NaN     0.0      Antone Cardner  \n",
       "4          0.0        0.0           0.0  0.0     0.0     Errairk Crakete  "
      ]
     },
     "execution_count": 207,
     "metadata": {},
     "output_type": "execute_result"
    }
   ],
   "source": [
    "test.head()"
   ]
  },
  {
   "cell_type": "code",
   "execution_count": 208,
   "id": "e6d5b39d",
   "metadata": {
    "execution": {
     "iopub.execute_input": "2022-10-23T12:28:10.241207Z",
     "iopub.status.busy": "2022-10-23T12:28:10.240725Z",
     "iopub.status.idle": "2022-10-23T12:28:10.273662Z",
     "shell.execute_reply": "2022-10-23T12:28:10.271723Z"
    },
    "papermill": {
     "duration": 0.048598,
     "end_time": "2022-10-23T12:28:10.276391",
     "exception": false,
     "start_time": "2022-10-23T12:28:10.227793",
     "status": "completed"
    },
    "tags": []
   },
   "outputs": [
    {
     "name": "stdout",
     "output_type": "stream",
     "text": [
      "<class 'pandas.core.frame.DataFrame'>\n",
      "Int64Index: 6954 entries, 1 to 8692\n",
      "Data columns (total 15 columns):\n",
      " #   Column        Non-Null Count  Dtype  \n",
      "---  ------        --------------  -----  \n",
      " 0   Id            6954 non-null   int64  \n",
      " 1   PassengerId   6954 non-null   object \n",
      " 2   HomePlanet    6786 non-null   object \n",
      " 3   CryoSleep     6777 non-null   object \n",
      " 4   Cabin         6796 non-null   object \n",
      " 5   Destination   6815 non-null   object \n",
      " 6   Age           6806 non-null   float64\n",
      " 7   VIP           6792 non-null   object \n",
      " 8   RoomService   6828 non-null   float64\n",
      " 9   FoodCourt     6814 non-null   float64\n",
      " 10  ShoppingMall  6789 non-null   float64\n",
      " 11  Spa           6820 non-null   float64\n",
      " 12  VRDeck        6803 non-null   float64\n",
      " 13  Name          6795 non-null   object \n",
      " 14  Transported   6954 non-null   float64\n",
      "dtypes: float64(7), int64(1), object(7)\n",
      "memory usage: 869.2+ KB\n"
     ]
    }
   ],
   "source": [
    "train.info()"
   ]
  },
  {
   "cell_type": "markdown",
   "metadata": {
    "execution": {
     "iopub.execute_input": "2022-10-23T12:28:10.300999Z",
     "iopub.status.busy": "2022-10-23T12:28:10.300517Z",
     "iopub.status.idle": "2022-10-23T12:28:10.343607Z",
     "shell.execute_reply": "2022-10-23T12:28:10.342263Z"
    },
    "papermill": {
     "duration": 0.058475,
     "end_time": "2022-10-23T12:28:10.346127",
     "exception": false,
     "start_time": "2022-10-23T12:28:10.287652",
     "status": "completed"
    },
    "tags": []
   },
   "source": [
    "train.describe().T"
   ]
  },
  {
   "cell_type": "markdown",
   "metadata": {
    "execution": {
     "iopub.execute_input": "2022-10-23T11:48:18.341381Z",
     "iopub.status.busy": "2022-10-23T11:48:18.340868Z",
     "iopub.status.idle": "2022-10-23T11:48:18.347507Z",
     "shell.execute_reply": "2022-10-23T11:48:18.346008Z",
     "shell.execute_reply.started": "2022-10-23T11:48:18.341340Z"
    },
    "papermill": {
     "duration": 0.011096,
     "end_time": "2022-10-23T12:28:10.368592",
     "exception": false,
     "start_time": "2022-10-23T12:28:10.357496",
     "status": "completed"
    },
    "tags": []
   },
   "source": [
    "# data visualization"
   ]
  },
  {
   "cell_type": "markdown",
   "metadata": {
    "execution": {
     "iopub.execute_input": "2022-10-23T12:28:10.394050Z",
     "iopub.status.busy": "2022-10-23T12:28:10.393166Z",
     "iopub.status.idle": "2022-10-23T12:28:10.616968Z",
     "shell.execute_reply": "2022-10-23T12:28:10.614957Z"
    },
    "papermill": {
     "duration": 0.243264,
     "end_time": "2022-10-23T12:28:10.623308",
     "exception": false,
     "start_time": "2022-10-23T12:28:10.380044",
     "status": "completed"
    },
    "tags": []
   },
   "source": [
    "# Transported\n",
    "\n",
    "plt.figure(figsize=(7,7))\n",
    "train['Transported'].value_counts().plot.pie(explode = [0.05, 0.05] , \n",
    "                                             autopct = '%1.1f%%' , \n",
    "                                             textprops = {'fontsize' : 16 })\n",
    "plt.show();"
   ]
  },
  {
   "cell_type": "markdown",
   "metadata": {
    "execution": {
     "iopub.execute_input": "2022-10-23T12:28:10.678000Z",
     "iopub.status.busy": "2022-10-23T12:28:10.676352Z",
     "iopub.status.idle": "2022-10-23T12:28:11.400912Z",
     "shell.execute_reply": "2022-10-23T12:28:11.399513Z"
    },
    "papermill": {
     "duration": 0.747006,
     "end_time": "2022-10-23T12:28:11.403460",
     "exception": false,
     "start_time": "2022-10-23T12:28:10.656454",
     "status": "completed"
    },
    "tags": []
   },
   "source": [
    "# Age\n",
    "\n",
    "plt.figure(figsize=(12,7))\n",
    "sns.histplot(data= train, x= 'Age', hue= 'Transported', binwidth = 1, kde = True)\n",
    "plt.xlabel('Age')\n",
    "plt.ylabel('Transported Count')\n",
    "plt.show();"
   ]
  },
  {
   "cell_type": "code",
   "execution_count": 209,
   "id": "f37bdad5",
   "metadata": {
    "execution": {
     "iopub.execute_input": "2022-10-23T12:28:11.430471Z",
     "iopub.status.busy": "2022-10-23T12:28:11.430084Z",
     "iopub.status.idle": "2022-10-23T12:28:12.229782Z",
     "shell.execute_reply": "2022-10-23T12:28:12.228352Z"
    },
    "papermill": {
     "duration": 0.816546,
     "end_time": "2022-10-23T12:28:12.232741",
     "exception": false,
     "start_time": "2022-10-23T12:28:11.416195",
     "status": "completed"
    },
    "tags": []
   },
   "outputs": [
    {
     "data": {
      "image/png": "[encoded data removed]",
      "text/plain": [
       "<Figure size 1080x1080 with 4 Axes>"
      ]
     },
     "metadata": {
      "needs_background": "light"
     },
     "output_type": "display_data"
    }
   ],
   "source": [
    "# Categorical\n",
    "\n",
    "graph_cat = ['HomePlanet' , 'CryoSleep' , 'Destination' , 'VIP']\n",
    "\n",
    "fig = plt.figure(figsize= (15,15))\n",
    "\n",
    "for i, name in enumerate(graph_cat):\n",
    "    \n",
    "    ax = fig.add_subplot(4, 1, i+1)\n",
    "    sns.countplot(data= train, axes= ax, x= name, hue= 'Transported')"
   ]
  },
  {
   "cell_type": "code",
   "execution_count": 210,
   "id": "0e281b7e",
   "metadata": {
    "execution": {
     "iopub.execute_input": "2022-10-23T12:28:12.262021Z",
     "iopub.status.busy": "2022-10-23T12:28:12.261547Z",
     "iopub.status.idle": "2022-10-23T12:28:12.638066Z",
     "shell.execute_reply": "2022-10-23T12:28:12.636676Z"
    },
    "papermill": {
     "duration": 0.394291,
     "end_time": "2022-10-23T12:28:12.640868",
     "exception": false,
     "start_time": "2022-10-23T12:28:12.246577",
     "status": "completed"
    },
    "tags": []
   },
   "outputs": [
    {
     "data": {
      "image/png": "[encoded data removed]",
      "text/plain": [
       "<Figure size 432x288 with 1 Axes>"
      ]
     },
     "metadata": {
      "needs_background": "light"
     },
     "output_type": "display_data"
    }
   ],
   "source": [
    "# Numerical \n",
    "\n",
    "sns.distplot(train['RoomService']);"
   ]
  },
  {
   "cell_type": "code",
   "execution_count": 211,
   "id": "5fb7bdfc",
   "metadata": {
    "execution": {
     "iopub.execute_input": "2022-10-23T12:28:12.671728Z",
     "iopub.status.busy": "2022-10-23T12:28:12.671324Z",
     "iopub.status.idle": "2022-10-23T12:28:12.977392Z",
     "shell.execute_reply": "2022-10-23T12:28:12.975937Z"
    },
    "papermill": {
     "duration": 0.325071,
     "end_time": "2022-10-23T12:28:12.980378",
     "exception": false,
     "start_time": "2022-10-23T12:28:12.655307",
     "status": "completed"
    },
    "tags": []
   },
   "outputs": [
    {
     "data": {
      "image/png": "[encoded data removed]",
      "text/plain": [
       "<Figure size 432x288 with 1 Axes>"
      ]
     },
     "metadata": {
      "needs_background": "light"
     },
     "output_type": "display_data"
    }
   ],
   "source": [
    "sns.distplot(np.log(train['RoomService']+1));"
   ]
  },
  {
   "cell_type": "markdown",
   "metadata": {
    "papermill": {
     "duration": 0.014798,
     "end_time": "2022-10-23T12:28:13.009730",
     "exception": false,
     "start_time": "2022-10-23T12:28:12.994932",
     "status": "completed"
    },
    "tags": []
   },
   "source": [
    "# missing value"
   ]
  },
  {
   "cell_type": "code",
   "execution_count": 212,
   "id": "1a34e55e",
   "metadata": {
    "execution": {
     "iopub.execute_input": "2022-10-23T12:28:13.040437Z",
     "iopub.status.busy": "2022-10-23T12:28:13.040046Z",
     "iopub.status.idle": "2022-10-23T12:28:13.053796Z",
     "shell.execute_reply": "2022-10-23T12:28:13.052606Z"
    },
    "papermill": {
     "duration": 0.031846,
     "end_time": "2022-10-23T12:28:13.056092",
     "exception": false,
     "start_time": "2022-10-23T12:28:13.024246",
     "status": "completed"
    },
    "tags": []
   },
   "outputs": [
    {
     "data": {
      "text/plain": [
       "Id                0\n",
       "PassengerId       0\n",
       "HomePlanet      168\n",
       "CryoSleep       177\n",
       "Cabin           158\n",
       "Destination     139\n",
       "Age             148\n",
       "VIP             162\n",
       "RoomService     126\n",
       "FoodCourt       140\n",
       "ShoppingMall    165\n",
       "Spa             134\n",
       "VRDeck          151\n",
       "Name            159\n",
       "Transported       0\n",
       "dtype: int64"
      ]
     },
     "execution_count": 212,
     "metadata": {},
     "output_type": "execute_result"
    }
   ],
   "source": [
    "train.isnull().sum()"
   ]
  },
  {
   "cell_type": "code",
   "execution_count": 213,
   "id": "d82767ce",
   "metadata": {
    "execution": {
     "iopub.execute_input": "2022-10-23T12:28:13.085823Z",
     "iopub.status.busy": "2022-10-23T12:28:13.085308Z",
     "iopub.status.idle": "2022-10-23T12:28:13.098728Z",
     "shell.execute_reply": "2022-10-23T12:28:13.097462Z"
    },
    "papermill": {
     "duration": 0.031325,
     "end_time": "2022-10-23T12:28:13.101357",
     "exception": false,
     "start_time": "2022-10-23T12:28:13.070032",
     "status": "completed"
    },
    "tags": []
   },
   "outputs": [
    {
     "data": {
      "text/plain": [
       "Id               0\n",
       "PassengerId      0\n",
       "HomePlanet      33\n",
       "CryoSleep       40\n",
       "Cabin           41\n",
       "Destination     43\n",
       "Age             31\n",
       "VIP             41\n",
       "RoomService     55\n",
       "FoodCourt       43\n",
       "ShoppingMall    43\n",
       "Spa             49\n",
       "VRDeck          37\n",
       "Name            41\n",
       "dtype: int64"
      ]
     },
     "execution_count": 213,
     "metadata": {},
     "output_type": "execute_result"
    }
   ],
   "source": [
    "test.isnull().sum()"
   ]
  },
  {
   "cell_type": "code",
   "execution_count": 214,
   "id": "a243a76e",
   "metadata": {
    "execution": {
     "iopub.execute_input": "2022-10-23T12:28:13.133628Z",
     "iopub.status.busy": "2022-10-23T12:28:13.133173Z",
     "iopub.status.idle": "2022-10-23T12:28:13.152495Z",
     "shell.execute_reply": "2022-10-23T12:28:13.150988Z"
    },
    "papermill": {
     "duration": 0.040258,
     "end_time": "2022-10-23T12:28:13.156111",
     "exception": false,
     "start_time": "2022-10-23T12:28:13.115853",
     "status": "completed"
    },
    "tags": []
   },
   "outputs": [],
   "source": [
    "# Age\n",
    "\n",
    "train_test = [train, test]\n",
    "\n",
    "for data_age in train_test:\n",
    "    \n",
    "    mean = data_age['Age'].mean()\n",
    "    std = data_age['Age'].std()\n",
    "    is_null = data_age['Age'].isnull().sum()\n",
    "    rand_age = np.random.randint(mean - std, mean + std, size = is_null)\n",
    "    age = data_age['Age'].copy()\n",
    "    age[np.isnan(age)] = rand_age\n",
    "    data_age['Age'] = age\n",
    "    data_age['Age'] = data_age['Age'].astype(int)"
   ]
  },
  {
   "cell_type": "code",
   "execution_count": 215,
   "id": "3f275377",
   "metadata": {
    "execution": {
     "iopub.execute_input": "2022-10-23T12:28:13.189921Z",
     "iopub.status.busy": "2022-10-23T12:28:13.189299Z",
     "iopub.status.idle": "2022-10-23T12:28:13.222582Z",
     "shell.execute_reply": "2022-10-23T12:28:13.221099Z"
    },
    "papermill": {
     "duration": 0.054252,
     "end_time": "2022-10-23T12:28:13.225839",
     "exception": false,
     "start_time": "2022-10-23T12:28:13.171587",
     "status": "completed"
    },
    "tags": []
   },
   "outputs": [],
   "source": [
    "# Categorical \n",
    "\n",
    "for data_obj in train_test:\n",
    "    \n",
    "    data_obj['HomePlanet'] = data_obj['HomePlanet'].fillna(data_obj['HomePlanet'].mode()[0])\n",
    "    data_obj['CryoSleep'] = data_obj['CryoSleep'].fillna(data_obj['CryoSleep'].mode()[0])\n",
    "    data_obj['Cabin'] = data_obj['Cabin'].fillna(data_obj['Cabin'].mode()[0])\n",
    "    data_obj['Destination'] = data_obj['Destination'].fillna(data_obj['Destination'].mode()[0])\n",
    "    data_obj['VIP'] = data_obj['VIP'].fillna(data_obj['VIP'].mode()[0])"
   ]
  },
  {
   "cell_type": "markdown",
   "metadata": {
    "execution": {
     "iopub.execute_input": "2022-10-23T12:28:13.258329Z",
     "iopub.status.busy": "2022-10-23T12:28:13.257803Z",
     "iopub.status.idle": "2022-10-23T12:28:13.272179Z",
     "shell.execute_reply": "2022-10-23T12:28:13.270878Z"
    },
    "papermill": {
     "duration": 0.033728,
     "end_time": "2022-10-23T12:28:13.274831",
     "exception": false,
     "start_time": "2022-10-23T12:28:13.241103",
     "status": "completed"
    },
    "tags": []
   },
   "source": [
    "train.isnull().sum()"
   ]
  },
  {
   "cell_type": "code",
   "execution_count": 216,
   "id": "9e065f26",
   "metadata": {
    "execution": {
     "iopub.execute_input": "2022-10-23T12:28:13.308960Z",
     "iopub.status.busy": "2022-10-23T12:28:13.307606Z",
     "iopub.status.idle": "2022-10-23T12:28:13.329314Z",
     "shell.execute_reply": "2022-10-23T12:28:13.328051Z"
    },
    "papermill": {
     "duration": 0.041862,
     "end_time": "2022-10-23T12:28:13.332272",
     "exception": false,
     "start_time": "2022-10-23T12:28:13.290410",
     "status": "completed"
    },
    "tags": []
   },
   "outputs": [],
   "source": [
    "# Numerical \n",
    "\n",
    "for data_num in train_test:\n",
    "    \n",
    "    data_num['RoomService'] = np.log(data_num['Spa']+1) \n",
    "    data_num['ShoppingMall'] = np.log(data_num['ShoppingMall']+1) \n",
    "    data_num['Spa'] = np.log(data_num['Spa']+1) \n",
    "    data_num['VRDeck'] = np.log(data_num['VRDeck']+1) \n",
    "    data_num['FoodCourt'] = np.log(data_num['FoodCourt']+1) \n",
    "\n",
    "    data_num['RoomService'] = data_num['RoomService'].fillna(data_num['RoomService'].median())\n",
    "    data_num['ShoppingMall'] = data_num['ShoppingMall'].fillna(data_num['ShoppingMall'].median())\n",
    "    data_num['Spa'] = data_num['Spa'].fillna(data_num['Spa'].median())\n",
    "    data_num['VRDeck'] = data_num['VRDeck'].fillna(data_num['VRDeck'].median())\n",
    "    data_num['FoodCourt'] = data_num['FoodCourt'].fillna(data_num['FoodCourt'].median())"
   ]
  },
  {
   "cell_type": "markdown",
   "metadata": {
    "execution": {
     "iopub.execute_input": "2022-10-23T12:28:13.366166Z",
     "iopub.status.busy": "2022-10-23T12:28:13.365721Z",
     "iopub.status.idle": "2022-10-23T12:28:13.380588Z",
     "shell.execute_reply": "2022-10-23T12:28:13.379057Z"
    },
    "papermill": {
     "duration": 0.034232,
     "end_time": "2022-10-23T12:28:13.383105",
     "exception": false,
     "start_time": "2022-10-23T12:28:13.348873",
     "status": "completed"
    },
    "tags": []
   },
   "source": [
    "train.isnull().sum()"
   ]
  },
  {
   "cell_type": "code",
   "execution_count": 217,
   "id": "31cc1faa",
   "metadata": {
    "execution": {
     "iopub.execute_input": "2022-10-23T12:28:13.414815Z",
     "iopub.status.busy": "2022-10-23T12:28:13.414388Z",
     "iopub.status.idle": "2022-10-23T12:28:13.423719Z",
     "shell.execute_reply": "2022-10-23T12:28:13.422846Z"
    },
    "papermill": {
     "duration": 0.027692,
     "end_time": "2022-10-23T12:28:13.426066",
     "exception": false,
     "start_time": "2022-10-23T12:28:13.398374",
     "status": "completed"
    },
    "tags": []
   },
   "outputs": [],
   "source": [
    "# Drop Name\n",
    "\n",
    "for data_name in train_test:\n",
    "    data_name.drop('Name', axis=1, inplace=True)"
   ]
  },
  {
   "cell_type": "markdown",
   "metadata": {
    "execution": {
     "iopub.execute_input": "2022-10-23T12:28:13.457649Z",
     "iopub.status.busy": "2022-10-23T12:28:13.457253Z",
     "iopub.status.idle": "2022-10-23T12:28:13.468213Z",
     "shell.execute_reply": "2022-10-23T12:28:13.466839Z"
    },
    "papermill": {
     "duration": 0.029853,
     "end_time": "2022-10-23T12:28:13.471129",
     "exception": false,
     "start_time": "2022-10-23T12:28:13.441276",
     "status": "completed"
    },
    "tags": []
   },
   "source": [
    "train.isnull().sum()"
   ]
  },
  {
   "cell_type": "code",
   "execution_count": 218,
   "id": "b2cd813d",
   "metadata": {
    "execution": {
     "iopub.execute_input": "2022-10-23T12:28:13.503544Z",
     "iopub.status.busy": "2022-10-23T12:28:13.503122Z",
     "iopub.status.idle": "2022-10-23T12:28:13.519500Z",
     "shell.execute_reply": "2022-10-23T12:28:13.517994Z"
    },
    "papermill": {
     "duration": 0.036288,
     "end_time": "2022-10-23T12:28:13.522461",
     "exception": false,
     "start_time": "2022-10-23T12:28:13.486173",
     "status": "completed"
    },
    "tags": []
   },
   "outputs": [],
   "source": [
    "# Label Encoding \n",
    "\n",
    "for data in train_test:\n",
    "    \n",
    "    data['HomePlanet'] =data['HomePlanet'].astype('category').cat.codes\n",
    "    data['Destination'] =data['Destination'].astype('category').cat.codes"
   ]
  },
  {
   "cell_type": "code",
   "execution_count": null,
   "id": "8c242c24",
   "metadata": {},
   "outputs": [],
   "source": []
  },
  {
   "cell_type": "code",
   "execution_count": 219,
   "id": "2179a9bb",
   "metadata": {
    "execution": {
     "iopub.execute_input": "2022-10-23T12:28:13.553590Z",
     "iopub.status.busy": "2022-10-23T12:28:13.553103Z",
     "iopub.status.idle": "2022-10-23T12:28:14.581332Z",
     "shell.execute_reply": "2022-10-23T12:28:14.579958Z"
    },
    "papermill": {
     "duration": 1.046614,
     "end_time": "2022-10-23T12:28:14.583797",
     "exception": false,
     "start_time": "2022-10-23T12:28:13.537183",
     "status": "completed"
    },
    "tags": []
   },
   "outputs": [
    {
     "data": {
      "image/png": "[encoded data removed]",
      "text/plain": [
       "<Figure size 1080x648 with 2 Axes>"
      ]
     },
     "metadata": {
      "needs_background": "light"
     },
     "output_type": "display_data"
    }
   ],
   "source": [
    "# Corr Matrix\n",
    "\n",
    "corr = train.corr()\n",
    "plt.figure(figsize=(15,9))\n",
    "sns.heatmap(corr, annot= True, cmap= 'coolwarm');"
   ]
  },
  {
   "cell_type": "markdown",
   "id": "b1cff2a6",
   "metadata": {},
   "source": []
  },
  {
   "cell_type": "code",
   "execution_count": 220,
   "id": "b5c2c237",
   "metadata": {
    "execution": {
     "iopub.execute_input": "2022-10-23T12:28:14.621651Z",
     "iopub.status.busy": "2022-10-23T12:28:14.620840Z",
     "iopub.status.idle": "2022-10-23T12:28:14.629876Z",
     "shell.execute_reply": "2022-10-23T12:28:14.628800Z"
    },
    "papermill": {
     "duration": 0.032279,
     "end_time": "2022-10-23T12:28:14.632640",
     "exception": false,
     "start_time": "2022-10-23T12:28:14.600361",
     "status": "completed"
    },
    "tags": []
   },
   "outputs": [],
   "source": [
    "# Data cleaning for model\n",
    "\n",
    "train = train.drop('Cabin', axis= 1)\n",
    "test = test.drop('Cabin', axis= 1)"
   ]
  },
  {
   "cell_type": "markdown",
   "metadata": {
    "papermill": {
     "duration": 0.015093,
     "end_time": "2022-10-23T12:28:14.663138",
     "exception": false,
     "start_time": "2022-10-23T12:28:14.648045",
     "status": "completed"
    },
    "tags": []
   },
   "source": [
    "# model"
   ]
  },
  {
   "cell_type": "code",
   "execution_count": 221,
   "id": "4f231b5e",
   "metadata": {
    "execution": {
     "iopub.execute_input": "2022-10-23T12:28:14.696139Z",
     "iopub.status.busy": "2022-10-23T12:28:14.695207Z",
     "iopub.status.idle": "2022-10-23T12:28:14.703570Z",
     "shell.execute_reply": "2022-10-23T12:28:14.702337Z"
    },
    "papermill": {
     "duration": 0.027796,
     "end_time": "2022-10-23T12:28:14.706168",
     "exception": false,
     "start_time": "2022-10-23T12:28:14.678372",
     "status": "completed"
    },
    "tags": []
   },
   "outputs": [],
   "source": [
    "X = train.drop('Transported', axis=1)\n",
    "y = train['Transported']\n",
    "X_test = test "
   ]
  },
  {
   "cell_type": "code",
   "execution_count": 222,
   "id": "227ecd95",
   "metadata": {
    "execution": {
     "iopub.execute_input": "2022-10-23T12:28:14.740168Z",
     "iopub.status.busy": "2022-10-23T12:28:14.739762Z",
     "iopub.status.idle": "2022-10-23T12:28:14.755969Z",
     "shell.execute_reply": "2022-10-23T12:28:14.754794Z"
    },
    "papermill": {
     "duration": 0.036443,
     "end_time": "2022-10-23T12:28:14.758562",
     "exception": false,
     "start_time": "2022-10-23T12:28:14.722119",
     "status": "completed"
    },
    "tags": []
   },
   "outputs": [
    {
     "data": {
      "text/html": [
       "<div>\n",
       "<style scoped>\n",
       "    .dataframe tbody tr th:only-of-type {\n",
       "        vertical-align: middle;\n",
       "    }\n",
       "\n",
       "    .dataframe tbody tr th {\n",
       "        vertical-align: top;\n",
       "    }\n",
       "\n",
       "    .dataframe thead th {\n",
       "        text-align: right;\n",
       "    }\n",
       "</style>\n",
       "<table border=\"1\" class=\"dataframe\">\n",
       "  <thead>\n",
       "    <tr style=\"text-align: right;\">\n",
       "      <th></th>\n",
       "      <th>Id</th>\n",
       "      <th>PassengerId</th>\n",
       "      <th>HomePlanet</th>\n",
       "      <th>CryoSleep</th>\n",
       "      <th>Destination</th>\n",
       "      <th>Age</th>\n",
       "      <th>VIP</th>\n",
       "      <th>RoomService</th>\n",
       "      <th>FoodCourt</th>\n",
       "      <th>ShoppingMall</th>\n",
       "      <th>Spa</th>\n",
       "      <th>VRDeck</th>\n",
       "    </tr>\n",
       "  </thead>\n",
       "  <tbody>\n",
       "    <tr>\n",
       "      <th>1</th>\n",
       "      <td>1</td>\n",
       "      <td>0002_01</td>\n",
       "      <td>0</td>\n",
       "      <td>False</td>\n",
       "      <td>2</td>\n",
       "      <td>24</td>\n",
       "      <td>False</td>\n",
       "      <td>6.309918</td>\n",
       "      <td>2.302585</td>\n",
       "      <td>3.258097</td>\n",
       "      <td>6.309918</td>\n",
       "      <td>3.806662</td>\n",
       "    </tr>\n",
       "    <tr>\n",
       "      <th>2</th>\n",
       "      <td>2</td>\n",
       "      <td>0003_01</td>\n",
       "      <td>1</td>\n",
       "      <td>False</td>\n",
       "      <td>2</td>\n",
       "      <td>58</td>\n",
       "      <td>True</td>\n",
       "      <td>8.812248</td>\n",
       "      <td>8.182280</td>\n",
       "      <td>0.000000</td>\n",
       "      <td>8.812248</td>\n",
       "      <td>3.912023</td>\n",
       "    </tr>\n",
       "    <tr>\n",
       "      <th>3</th>\n",
       "      <td>3</td>\n",
       "      <td>0003_02</td>\n",
       "      <td>1</td>\n",
       "      <td>False</td>\n",
       "      <td>2</td>\n",
       "      <td>33</td>\n",
       "      <td>False</td>\n",
       "      <td>8.110728</td>\n",
       "      <td>7.157735</td>\n",
       "      <td>5.918894</td>\n",
       "      <td>8.110728</td>\n",
       "      <td>5.267858</td>\n",
       "    </tr>\n",
       "    <tr>\n",
       "      <th>4</th>\n",
       "      <td>4</td>\n",
       "      <td>0004_01</td>\n",
       "      <td>0</td>\n",
       "      <td>False</td>\n",
       "      <td>2</td>\n",
       "      <td>16</td>\n",
       "      <td>False</td>\n",
       "      <td>6.338594</td>\n",
       "      <td>4.262680</td>\n",
       "      <td>5.023881</td>\n",
       "      <td>6.338594</td>\n",
       "      <td>1.098612</td>\n",
       "    </tr>\n",
       "    <tr>\n",
       "      <th>5</th>\n",
       "      <td>5</td>\n",
       "      <td>0005_01</td>\n",
       "      <td>0</td>\n",
       "      <td>False</td>\n",
       "      <td>1</td>\n",
       "      <td>44</td>\n",
       "      <td>False</td>\n",
       "      <td>5.676754</td>\n",
       "      <td>6.182085</td>\n",
       "      <td>0.000000</td>\n",
       "      <td>5.676754</td>\n",
       "      <td>0.000000</td>\n",
       "    </tr>\n",
       "  </tbody>\n",
       "</table>\n",
       "</div>"
      ],
      "text/plain": [
       "   Id PassengerId  HomePlanet  CryoSleep  Destination  Age    VIP  \\\n",
       "1   1     0002_01           0      False            2   24  False   \n",
       "2   2     0003_01           1      False            2   58   True   \n",
       "3   3     0003_02           1      False            2   33  False   \n",
       "4   4     0004_01           0      False            2   16  False   \n",
       "5   5     0005_01           0      False            1   44  False   \n",
       "\n",
       "   RoomService  FoodCourt  ShoppingMall       Spa    VRDeck  \n",
       "1     6.309918   2.302585      3.258097  6.309918  3.806662  \n",
       "2     8.812248   8.182280      0.000000  8.812248  3.912023  \n",
       "3     8.110728   7.157735      5.918894  8.110728  5.267858  \n",
       "4     6.338594   4.262680      5.023881  6.338594  1.098612  \n",
       "5     5.676754   6.182085      0.000000  5.676754  0.000000  "
      ]
     },
     "execution_count": 222,
     "metadata": {},
     "output_type": "execute_result"
    }
   ],
   "source": [
    "X.head()"
   ]
  },
  {
   "cell_type": "code",
   "execution_count": 229,
   "id": "9c43eca6",
   "metadata": {
    "execution": {
     "iopub.execute_input": "2022-10-23T12:28:14.793482Z",
     "iopub.status.busy": "2022-10-23T12:28:14.793077Z",
     "iopub.status.idle": "2022-10-23T12:28:14.801377Z",
     "shell.execute_reply": "2022-10-23T12:28:14.800023Z"
    },
    "papermill": {
     "duration": 0.028977,
     "end_time": "2022-10-23T12:28:14.803860",
     "exception": false,
     "start_time": "2022-10-23T12:28:14.774883",
     "status": "completed"
    },
    "tags": []
   },
   "outputs": [
    {
     "data": {
      "text/plain": [
       "(6954,)"
      ]
     },
     "execution_count": 229,
     "metadata": {},
     "output_type": "execute_result"
    }
   ],
   "source": [
    "y.head()\n",
    "y.shape"
   ]
  },
  {
   "cell_type": "code",
   "execution_count": 224,
   "id": "05406975",
   "metadata": {
    "execution": {
     "iopub.execute_input": "2022-10-23T12:28:14.838739Z",
     "iopub.status.busy": "2022-10-23T12:28:14.838335Z",
     "iopub.status.idle": "2022-10-23T12:28:14.854427Z",
     "shell.execute_reply": "2022-10-23T12:28:14.853324Z"
    },
    "papermill": {
     "duration": 0.036386,
     "end_time": "2022-10-23T12:28:14.856594",
     "exception": false,
     "start_time": "2022-10-23T12:28:14.820208",
     "status": "completed"
    },
    "tags": []
   },
   "outputs": [],
   "source": [
    "X_test.head()\n",
    "X_test.drop('Id', axis=1, inplace=True)\n",
    "X_test.drop('PassengerId', axis=1, inplace=True)"
   ]
  },
  {
   "cell_type": "markdown",
   "metadata": {
    "execution": {
     "iopub.execute_input": "2022-10-23T12:28:15.123241Z",
     "iopub.status.busy": "2022-10-23T12:28:15.121806Z",
     "iopub.status.idle": "2022-10-23T12:28:15.404570Z",
     "shell.execute_reply": "2022-10-23T12:28:15.403251Z"
    },
    "papermill": {
     "duration": 0.304254,
     "end_time": "2022-10-23T12:28:15.407660",
     "exception": false,
     "start_time": "2022-10-23T12:28:15.103406",
     "status": "completed"
    },
    "tags": []
   },
   "source": [
    "from sklearn.model_selection import train_test_split, cross_val_score"
   ]
  },
  {
   "cell_type": "code",
   "execution_count": 225,
   "id": "e068f938",
   "metadata": {
    "execution": {
     "iopub.execute_input": "2022-10-23T12:28:15.443288Z",
     "iopub.status.busy": "2022-10-23T12:28:15.442811Z",
     "iopub.status.idle": "2022-10-23T12:28:15.450786Z",
     "shell.execute_reply": "2022-10-23T12:28:15.449250Z"
    },
    "papermill": {
     "duration": 0.029001,
     "end_time": "2022-10-23T12:28:15.453404",
     "exception": false,
     "start_time": "2022-10-23T12:28:15.424403",
     "status": "completed"
    },
    "tags": []
   },
   "outputs": [],
   "source": [
    "from sklearn.model_selection import train_test_split\n",
    "from sklearn.model_selection import cross_validate\n",
    "from sklearn.metrics import accuracy_score\n",
    "from sklearn.model_selection import cross_val_score\n",
    "def classify(model, xx, yy):\n",
    "    \n",
    "    x_train, x_test, y_train, y_test = train_test_split(xx, yy, test_size=0.2, random_state= 42)\n",
    "    model.fit(x_train, y_train)\n",
    "    print('Accuracy: ', model.score(x_test, y_test))\n",
    "    \n",
    "    score = cross_val_score(model, X, y, cv=5)\n",
    "    print('CV Score: ', np.mean(score))"
   ]
  },
  {
   "cell_type": "code",
   "execution_count": 226,
   "id": "8948ab9c",
   "metadata": {
    "execution": {
     "iopub.execute_input": "2022-10-23T12:28:30.076632Z",
     "iopub.status.busy": "2022-10-23T12:28:30.076107Z",
     "iopub.status.idle": "2022-10-23T12:28:30.747119Z",
     "shell.execute_reply": "2022-10-23T12:28:30.745698Z"
    },
    "papermill": {
     "duration": 0.692678,
     "end_time": "2022-10-23T12:28:30.750465",
     "exception": false,
     "start_time": "2022-10-23T12:28:30.057787",
     "status": "completed"
    },
    "tags": []
   },
   "outputs": [
    {
     "name": "stdout",
     "output_type": "stream",
     "text": [
      "Accuracy:  0.5485262401150252\n",
      "CV Score:  0.45801529876027286\n"
     ]
    }
   ],
   "source": [
    "from sklearn.neighbors import KNeighborsClassifier\n",
    "\n",
    "model = KNeighborsClassifier()\n",
    "classify(model, X, y)"
   ]
  },
  {
   "cell_type": "markdown",
   "metadata": {},
   "source": [
    "X_test"
   ]
  },
  {
   "cell_type": "code",
   "execution_count": 227,
   "id": "f357cc56",
   "metadata": {},
   "outputs": [
    {
     "ename": "ValueError",
     "evalue": "X has 10 features, but KNeighborsClassifier is expecting 12 features as input.",
     "output_type": "error",
     "traceback": [
      "\u001b[0;31m---------------------------------------------------------------------------\u001b[0m",
      "\u001b[0;31mValueError\u001b[0m                                Traceback (most recent call last)",
      "\u001b[0;32m/var/folders/_h/n4z6x9sx4s18b6l_lb44jpzc0000gn/T/ipykernel_41781/3931703112.py\u001b[0m in \u001b[0;36m<module>\u001b[0;34m\u001b[0m\n\u001b[1;32m      2\u001b[0m \u001b[0;31m# model_rf.fit(x_train, y_train)\u001b[0m\u001b[0;34m\u001b[0m\u001b[0;34m\u001b[0m\u001b[0;34m\u001b[0m\u001b[0m\n\u001b[1;32m      3\u001b[0m \u001b[0;34m\u001b[0m\u001b[0m\n\u001b[0;32m----> 4\u001b[0;31m \u001b[0my_pred\u001b[0m \u001b[0;34m=\u001b[0m \u001b[0mmodel\u001b[0m\u001b[0;34m.\u001b[0m\u001b[0mpredict\u001b[0m\u001b[0;34m(\u001b[0m\u001b[0mX_test\u001b[0m\u001b[0;34m)\u001b[0m\u001b[0;34m\u001b[0m\u001b[0;34m\u001b[0m\u001b[0m\n\u001b[0m\u001b[1;32m      5\u001b[0m \u001b[0;31m# print(model.score(x_test, y_test))\u001b[0m\u001b[0;34m\u001b[0m\u001b[0;34m\u001b[0m\u001b[0;34m\u001b[0m\u001b[0m\n\u001b[1;32m      6\u001b[0m \u001b[0;34m\u001b[0m\u001b[0m\n",
      "\u001b[0;32m/opt/anaconda3/lib/python3.8/site-packages/sklearn/neighbors/_classification.py\u001b[0m in \u001b[0;36mpredict\u001b[0;34m(self, X)\u001b[0m\n\u001b[1;32m    224\u001b[0m             \u001b[0;31m# In that case, we do not need the distances to perform\u001b[0m\u001b[0;34m\u001b[0m\u001b[0;34m\u001b[0m\u001b[0;34m\u001b[0m\u001b[0m\n\u001b[1;32m    225\u001b[0m             \u001b[0;31m# the weighting so we do not compute them.\u001b[0m\u001b[0;34m\u001b[0m\u001b[0;34m\u001b[0m\u001b[0;34m\u001b[0m\u001b[0m\n\u001b[0;32m--> 226\u001b[0;31m             \u001b[0mneigh_ind\u001b[0m \u001b[0;34m=\u001b[0m \u001b[0mself\u001b[0m\u001b[0;34m.\u001b[0m\u001b[0mkneighbors\u001b[0m\u001b[0;34m(\u001b[0m\u001b[0mX\u001b[0m\u001b[0;34m,\u001b[0m \u001b[0mreturn_distance\u001b[0m\u001b[0;34m=\u001b[0m\u001b[0;32mFalse\u001b[0m\u001b[0;34m)\u001b[0m\u001b[0;34m\u001b[0m\u001b[0;34m\u001b[0m\u001b[0m\n\u001b[0m\u001b[1;32m    227\u001b[0m             \u001b[0mneigh_dist\u001b[0m \u001b[0;34m=\u001b[0m \u001b[0;32mNone\u001b[0m\u001b[0;34m\u001b[0m\u001b[0;34m\u001b[0m\u001b[0m\n\u001b[1;32m    228\u001b[0m         \u001b[0;32melse\u001b[0m\u001b[0;34m:\u001b[0m\u001b[0;34m\u001b[0m\u001b[0;34m\u001b[0m\u001b[0m\n",
      "\u001b[0;32m/opt/anaconda3/lib/python3.8/site-packages/sklearn/neighbors/_base.py\u001b[0m in \u001b[0;36mkneighbors\u001b[0;34m(self, X, n_neighbors, return_distance)\u001b[0m\n\u001b[1;32m    743\u001b[0m                 \u001b[0mX\u001b[0m \u001b[0;34m=\u001b[0m \u001b[0m_check_precomputed\u001b[0m\u001b[0;34m(\u001b[0m\u001b[0mX\u001b[0m\u001b[0;34m)\u001b[0m\u001b[0;34m\u001b[0m\u001b[0;34m\u001b[0m\u001b[0m\n\u001b[1;32m    744\u001b[0m             \u001b[0;32melse\u001b[0m\u001b[0;34m:\u001b[0m\u001b[0;34m\u001b[0m\u001b[0;34m\u001b[0m\u001b[0m\n\u001b[0;32m--> 745\u001b[0;31m                 \u001b[0mX\u001b[0m \u001b[0;34m=\u001b[0m \u001b[0mself\u001b[0m\u001b[0;34m.\u001b[0m\u001b[0m_validate_data\u001b[0m\u001b[0;34m(\u001b[0m\u001b[0mX\u001b[0m\u001b[0;34m,\u001b[0m \u001b[0maccept_sparse\u001b[0m\u001b[0;34m=\u001b[0m\u001b[0;34m\"csr\"\u001b[0m\u001b[0;34m,\u001b[0m \u001b[0mreset\u001b[0m\u001b[0;34m=\u001b[0m\u001b[0;32mFalse\u001b[0m\u001b[0;34m,\u001b[0m \u001b[0morder\u001b[0m\u001b[0;34m=\u001b[0m\u001b[0;34m\"C\"\u001b[0m\u001b[0;34m)\u001b[0m\u001b[0;34m\u001b[0m\u001b[0;34m\u001b[0m\u001b[0m\n\u001b[0m\u001b[1;32m    746\u001b[0m \u001b[0;34m\u001b[0m\u001b[0m\n\u001b[1;32m    747\u001b[0m         \u001b[0mn_samples_fit\u001b[0m \u001b[0;34m=\u001b[0m \u001b[0mself\u001b[0m\u001b[0;34m.\u001b[0m\u001b[0mn_samples_fit_\u001b[0m\u001b[0;34m\u001b[0m\u001b[0;34m\u001b[0m\u001b[0m\n",
      "\u001b[0;32m/opt/anaconda3/lib/python3.8/site-packages/sklearn/base.py\u001b[0m in \u001b[0;36m_validate_data\u001b[0;34m(self, X, y, reset, validate_separately, **check_params)\u001b[0m\n\u001b[1;32m    598\u001b[0m \u001b[0;34m\u001b[0m\u001b[0m\n\u001b[1;32m    599\u001b[0m         \u001b[0;32mif\u001b[0m \u001b[0;32mnot\u001b[0m \u001b[0mno_val_X\u001b[0m \u001b[0;32mand\u001b[0m \u001b[0mcheck_params\u001b[0m\u001b[0;34m.\u001b[0m\u001b[0mget\u001b[0m\u001b[0;34m(\u001b[0m\u001b[0;34m\"ensure_2d\"\u001b[0m\u001b[0;34m,\u001b[0m \u001b[0;32mTrue\u001b[0m\u001b[0;34m)\u001b[0m\u001b[0;34m:\u001b[0m\u001b[0;34m\u001b[0m\u001b[0;34m\u001b[0m\u001b[0m\n\u001b[0;32m--> 600\u001b[0;31m             \u001b[0mself\u001b[0m\u001b[0;34m.\u001b[0m\u001b[0m_check_n_features\u001b[0m\u001b[0;34m(\u001b[0m\u001b[0mX\u001b[0m\u001b[0;34m,\u001b[0m \u001b[0mreset\u001b[0m\u001b[0;34m=\u001b[0m\u001b[0mreset\u001b[0m\u001b[0;34m)\u001b[0m\u001b[0;34m\u001b[0m\u001b[0;34m\u001b[0m\u001b[0m\n\u001b[0m\u001b[1;32m    601\u001b[0m \u001b[0;34m\u001b[0m\u001b[0m\n\u001b[1;32m    602\u001b[0m         \u001b[0;32mreturn\u001b[0m \u001b[0mout\u001b[0m\u001b[0;34m\u001b[0m\u001b[0;34m\u001b[0m\u001b[0m\n",
      "\u001b[0;32m/opt/anaconda3/lib/python3.8/site-packages/sklearn/base.py\u001b[0m in \u001b[0;36m_check_n_features\u001b[0;34m(self, X, reset)\u001b[0m\n\u001b[1;32m    398\u001b[0m \u001b[0;34m\u001b[0m\u001b[0m\n\u001b[1;32m    399\u001b[0m         \u001b[0;32mif\u001b[0m \u001b[0mn_features\u001b[0m \u001b[0;34m!=\u001b[0m \u001b[0mself\u001b[0m\u001b[0;34m.\u001b[0m\u001b[0mn_features_in_\u001b[0m\u001b[0;34m:\u001b[0m\u001b[0;34m\u001b[0m\u001b[0;34m\u001b[0m\u001b[0m\n\u001b[0;32m--> 400\u001b[0;31m             raise ValueError(\n\u001b[0m\u001b[1;32m    401\u001b[0m                 \u001b[0;34mf\"X has {n_features} features, but {self.__class__.__name__} \"\u001b[0m\u001b[0;34m\u001b[0m\u001b[0;34m\u001b[0m\u001b[0m\n\u001b[1;32m    402\u001b[0m                 \u001b[0;34mf\"is expecting {self.n_features_in_} features as input.\"\u001b[0m\u001b[0;34m\u001b[0m\u001b[0;34m\u001b[0m\u001b[0m\n",
      "\u001b[0;31mValueError\u001b[0m: X has 10 features, but KNeighborsClassifier is expecting 12 features as input."
     ]
    }
   ],
   "source": [
    "# model_rf = RandomForestClassifier(max_depth=12, min_samples_leaf=12, min_samples_split=8, n_estimators=50)\n",
    "# model_rf.fit(x_train, y_train)\n",
    "\n",
    "y_pred = model.predict(X_test)\n",
    "# print(model.score(x_test, y_test))\n",
    "\n",
    "y_submission = model.predict(X_test) "
   ]
  },
  {
   "cell_type": "code",
   "execution_count": null,
   "id": "c070d01a",
   "metadata": {},
   "outputs": [],
   "source": [
    "submission = pd.DataFrame({\n",
    "        \"Id\": pd.read_csv('test.csv')[\"Id\"],\n",
    "        \"Transported\": y_submission\n",
    "    })"
   ]
  },
  {
   "cell_type": "code",
   "execution_count": null,
   "id": "7a0415f2",
   "metadata": {},
   "outputs": [],
   "source": [
    "submission[\"Transported\"] = submission[\"Transported\"].astype(int)"
   ]
  },
  {
   "cell_type": "code",
   "execution_count": null,
   "metadata": {},
   "outputs": [],
   "source": [
    "submission.to_csv('submission.csv', index=False)"
   ]
  },
  {
   "cell_type": "markdown",
   "metadata": {
    "papermill": {
     "duration": 0.017289,
     "end_time": "2022-10-23T12:28:30.785415",
     "exception": false,
     "start_time": "2022-10-23T12:28:30.768126",
     "status": "completed"
    },
    "tags": []
   },
   "source": [
    "# Now try other models\n",
    "# Or tune your parameters"
   ]
  },
  {
   "cell_type": "markdown",
   "metadata": {},
   "source": [
    "## Try Decision Tree\n",
    "## Try Other models\n",
    "## Try other parameters"
   ]
  },
  {
   "cell_type": "code",
   "execution_count": null,
   "id": "376b94fd",
   "metadata": {},
   "outputs": [],
   "source": [
    "from sklearn.tree import DecisionTreeClassifier\n",
    "\n",
    "\n",
    "\n"
   ]
  },
  {
   "cell_type": "code",
   "execution_count": null,
   "id": "f3ff65bc",
   "metadata": {},
   "outputs": [],
   "source": []
  },
  {
   "cell_type": "code",
   "execution_count": null,
   "id": "4e2d9885",
   "metadata": {},
   "outputs": [],
   "source": [
    "import numpy as np \n",
    "np.__config__.show() "
   ]
  },
  {
   "cell_type": "code",
   "execution_count": null,
   "id": "93fef676",
   "metadata": {},
   "outputs": [],
   "source": []
  }
 ],
 "metadata": {
  "kernelspec": {
   "display_name": "Python 3.8.3 ('base')",
   "language": "python",
   "name": "python3"
  },
  "language_info": {
   "codemirror_mode": {
    "name": "ipython",
    "version": 3
   },
   "file_extension": ".py",
   "mimetype": "text/x-python",
   "name": "python",
   "nbconvert_exporter": "python",
   "pygments_lexer": "ipython3",
   "version": "3.8.3"
  },
  "papermill": {
   "default_parameters": {},
   "duration": 1777.016922,
   "end_time": "2022-10-23T12:57:36.783153",
   "environment_variables": {},
   "exception": null,
   "input_path": "__notebook__.ipynb",
   "output_path": "__notebook__.ipynb",
   "parameters": {},
   "start_time": "2022-10-23T12:27:59.766231",
   "version": "2.3.4"
  },
  "vscode": {
   "interpreter": {
    "hash": "40d3a090f54c6569ab1632332b64b2c03c39dcf918b08424e98f38b5ae0af88f"
   }
  }
 },
 "nbformat": 4,
 "nbformat_minor": 5
}
